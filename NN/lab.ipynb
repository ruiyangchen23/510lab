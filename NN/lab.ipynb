{
 "metadata": {
  "language_info": {
   "codemirror_mode": {
    "name": "ipython",
    "version": 3
   },
   "file_extension": ".py",
   "mimetype": "text/x-python",
   "name": "python",
   "nbconvert_exporter": "python",
   "pygments_lexer": "ipython3",
   "version": "3.8.0-final"
  },
  "orig_nbformat": 2,
  "kernelspec": {
   "name": "python380jvsc74a57bd040f8ec08c363eaaafaa202a3b8f2470b49a67a74a8c9f4b512bc4076f891cb5a",
   "display_name": "Python 3.8.0 32-bit"
  },
  "metadata": {
   "interpreter": {
    "hash": "40f8ec08c363eaaafaa202a3b8f2470b49a67a74a8c9f4b512bc4076f891cb5a"
   }
  }
 },
 "nbformat": 4,
 "nbformat_minor": 2,
 "cells": [
  {
   "cell_type": "code",
   "execution_count": 7,
   "metadata": {},
   "outputs": [
    {
     "output_type": "stream",
     "name": "stdout",
     "text": [
      "Requirement already satisfied: nltk in e:\\wpsystem\\s-1-5-21-1758732570-3653028061-3792167962-1001\\appdata\\local\\packages\\pythonsoftwarefoundation.python.3.8_qbz5n2kfra8p0\\localcache\\local-packages\\python38\\site-packages (3.5)\n",
      "Requirement already satisfied: click in e:\\wpsystem\\s-1-5-21-1758732570-3653028061-3792167962-1001\\appdata\\local\\packages\\pythonsoftwarefoundation.python.3.8_qbz5n2kfra8p0\\localcache\\local-packages\\python38\\site-packages (from nltk) (7.1.2)\n",
      "Requirement already satisfied: regex in e:\\wpsystem\\s-1-5-21-1758732570-3653028061-3792167962-1001\\appdata\\local\\packages\\pythonsoftwarefoundation.python.3.8_qbz5n2kfra8p0\\localcache\\local-packages\\python38\\site-packages (from nltk) (2020.9.27)\n",
      "Requirement already satisfied: tqdm in e:\\wpsystem\\s-1-5-21-1758732570-3653028061-3792167962-1001\\appdata\\local\\packages\\pythonsoftwarefoundation.python.3.8_qbz5n2kfra8p0\\localcache\\local-packages\\python38\\site-packages (from nltk) (4.50.2)\n",
      "Requirement already satisfied: joblib in e:\\wpsystem\\s-1-5-21-1758732570-3653028061-3792167962-1001\\appdata\\local\\packages\\pythonsoftwarefoundation.python.3.8_qbz5n2kfra8p0\\localcache\\local-packages\\python38\\site-packages (from nltk) (0.15.1)\n"
     ]
    }
   ],
   "source": [
    "! pip install nltk"
   ]
  },
  {
   "source": [
    "import xml.etree.ElementTree as ET\n",
    "import nltk"
   ],
   "cell_type": "code",
   "metadata": {},
   "execution_count": 11,
   "outputs": [
    {
     "output_type": "error",
     "ename": "ModuleNotFoundError",
     "evalue": "No module named 'nltk'",
     "traceback": [
      "\u001b[1;31m---------------------------------------------------------------------------\u001b[0m",
      "\u001b[1;31mModuleNotFoundError\u001b[0m                       Traceback (most recent call last)",
      "\u001b[1;32m<ipython-input-11-0bef3ef65685>\u001b[0m in \u001b[0;36m<module>\u001b[1;34m\u001b[0m\n\u001b[0;32m      1\u001b[0m \u001b[1;32mimport\u001b[0m \u001b[0mxml\u001b[0m\u001b[1;33m.\u001b[0m\u001b[0metree\u001b[0m\u001b[1;33m.\u001b[0m\u001b[0mElementTree\u001b[0m \u001b[1;32mas\u001b[0m \u001b[0mET\u001b[0m\u001b[1;33m\u001b[0m\u001b[1;33m\u001b[0m\u001b[0m\n\u001b[1;32m----> 2\u001b[1;33m \u001b[1;32mimport\u001b[0m \u001b[0mnltk\u001b[0m\u001b[1;33m\u001b[0m\u001b[1;33m\u001b[0m\u001b[0m\n\u001b[0m",
      "\u001b[1;31mModuleNotFoundError\u001b[0m: No module named 'nltk'"
     ]
    }
   ]
  },
  {
   "source": [
    "#  Data Loader\n",
    "def parseXML(xmlfile):\n",
    "    tree = ET.parse(xmlfile)\n",
    "    root = tree.getroot()\n",
    "    posts = []\n",
    "    texts=  (root.findall(\"WRITING/TEXT\"))\n",
    "    for text in texts:\n",
    "        posts.append(text.text)\n",
    "    return posts\n",
    "\n",
    "def read_labels(labelfile):\n",
    "    f = open(labelfile, \"r\")\n",
    "    ret = {}\n",
    "    while True:\n",
    "        line = f.readline()\n",
    "        if len(line)==0:\n",
    "            break\n",
    "        xml,label = line.split()[0].strip(),line.split()[1].strip()\n",
    "        label = int(label)\n",
    "        ret[xml] = label\n",
    "    # print(ret)\n",
    "    return ret\n",
    "\n",
    "def load_data_and_label(labelfile):\n",
    "    xml_label = read_labels(labelfile)\n",
    "    data = []\n",
    "    labels = []\n",
    "    for k,v in xml_label.items():\n",
    "        datafile = \"./train/data/\"+k+\".xml\"\n",
    "        posts = parseXML(datafile)\n",
    "        data.append(posts)\n",
    "        labels.append(v)\n",
    "    # print (data,labels)\n",
    "    return data,labels\n",
    "\n",
    "data, label = load_data_and_label(\"./train/golden_truth.txt\")"
   ],
   "cell_type": "code",
   "metadata": {},
   "execution_count": null,
   "outputs": []
  },
  {
   "cell_type": "code",
   "execution_count": null,
   "metadata": {},
   "outputs": [],
   "source": []
  }
 ]
}